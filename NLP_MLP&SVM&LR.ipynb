{
 "cells": [
  {
   "cell_type": "code",
   "execution_count": 1,
   "id": "5788a162-fee2-4e4f-8f45-7739bac2624d",
   "metadata": {},
   "outputs": [],
   "source": [
    "from keras.datasets import imdb\n",
    "from sklearn.metrics import accuracy_score\n",
    "\n",
    "import numpy as np # linear algebra\n",
    "import pandas as pd # data processing, \n",
    "\n"
   ]
  },
  {
   "cell_type": "code",
   "execution_count": 2,
   "id": "07acc38f-bbdd-4d6a-868c-55a859381056",
   "metadata": {},
   "outputs": [],
   "source": [
    "(train_data, train_labels), (test_data, test_labels) = imdb.load_data(num_words=10000)"
   ]
  },
  {
   "cell_type": "markdown",
   "id": "6e80140d-38dd-40fd-b32c-c114264d16ae",
   "metadata": {},
   "source": [
    "# preprocessing \n"
   ]
  },
  {
   "cell_type": "code",
   "execution_count": 3,
   "id": "e961720f-2560-4558-928c-e630226a21aa",
   "metadata": {},
   "outputs": [],
   "source": [
    "# change the data into vectors\n",
    "\n",
    "import numpy as np\n",
    "\n",
    "def vectorize_sequences(sequences, dimension=10000):\n",
    "    # all zero matrix of shape (len(sequences), dimension)\n",
    "    result = np.zeros((len(sequences), dimension))\n",
    "    for i,sequence in enumerate(sequences):\n",
    "        result[i, sequence] = 1\n",
    "    return result"
   ]
  },
  {
   "cell_type": "code",
   "execution_count": 4,
   "id": "245375b5-4f8e-430e-b5e7-7d37bd63c4e9",
   "metadata": {},
   "outputs": [],
   "source": [
    "x_train = vectorize_sequences(train_data)\n",
    "x_test = vectorize_sequences(test_data)\n",
    "\n",
    "y_train = np.asarray(train_labels).astype('float32')\n",
    "y_test = np.asarray(test_labels).astype('float32')"
   ]
  },
  {
   "cell_type": "code",
   "execution_count": 5,
   "id": "8423cee9-cb61-4b3d-8a62-c66476d5d021",
   "metadata": {},
   "outputs": [
    {
     "data": {
      "text/plain": [
       "(25000, 250000000, 25000, (25000, 10000))"
      ]
     },
     "execution_count": 5,
     "metadata": {},
     "output_type": "execute_result"
    }
   ],
   "source": [
    "\n",
    "train_data.size,x_train.size, train_labels.size, x_train.shape"
   ]
  },
  {
   "cell_type": "code",
   "execution_count": 6,
   "id": "5b200d44-2f74-4228-916c-eebb4d528d43",
   "metadata": {},
   "outputs": [],
   "source": [
    "from keras import models\n",
    "from keras import layers\n",
    "\n",
    "model  = models.Sequential()\n",
    "model.add(layers.Dense(16, activation='relu', input_shape=(10000,)))\n",
    "model.add(layers.Dense(16, activation='relu'))\n",
    "model.add(layers.Dense(16, activation='relu'))\n",
    "model.add(layers.Dense(1, activation='sigmoid'))"
   ]
  },
  {
   "cell_type": "code",
   "execution_count": 7,
   "id": "d89e4bd9-ff39-447d-b0b8-861f70dc403f",
   "metadata": {},
   "outputs": [],
   "source": [
    "x_val = x_train[:10000]\n",
    "partial_x_train = x_train[10000:]\n",
    "\n",
    "y_val = y_train[:10000]\n",
    "partial_y_train = y_train[10000:]"
   ]
  },
  {
   "cell_type": "markdown",
   "id": "b4631978-f543-46f3-8fe0-4c7d3d449a3e",
   "metadata": {},
   "source": [
    "## compiler et entrainer le modele avec une partie du jeu d'entrainement "
   ]
  },
  {
   "cell_type": "code",
   "execution_count": 8,
   "id": "ba633592-f59e-4f1b-8758-689fa64628a7",
   "metadata": {},
   "outputs": [
    {
     "name": "stdout",
     "output_type": "stream",
     "text": [
      "Epoch 1/20\n",
      "30/30 [==============================] - 8s 222ms/step - loss: 0.5411 - acc: 0.7561 - val_loss: 0.4167 - val_acc: 0.8359\n",
      "Epoch 2/20\n",
      "30/30 [==============================] - 1s 30ms/step - loss: 0.3216 - acc: 0.8903 - val_loss: 0.3107 - val_acc: 0.8838\n",
      "Epoch 3/20\n",
      "30/30 [==============================] - 1s 27ms/step - loss: 0.2355 - acc: 0.9180 - val_loss: 0.2974 - val_acc: 0.8788\n",
      "Epoch 4/20\n",
      "30/30 [==============================] - 1s 29ms/step - loss: 0.1839 - acc: 0.9375 - val_loss: 0.2774 - val_acc: 0.8875\n",
      "Epoch 5/20\n",
      "30/30 [==============================] - 1s 24ms/step - loss: 0.1474 - acc: 0.9507 - val_loss: 0.3800 - val_acc: 0.8554\n",
      "Epoch 6/20\n",
      "30/30 [==============================] - 1s 28ms/step - loss: 0.1264 - acc: 0.9591 - val_loss: 0.2972 - val_acc: 0.8842\n",
      "Epoch 7/20\n",
      "30/30 [==============================] - 1s 26ms/step - loss: 0.1068 - acc: 0.9649 - val_loss: 0.3277 - val_acc: 0.8780\n",
      "Epoch 8/20\n",
      "30/30 [==============================] - 1s 27ms/step - loss: 0.0880 - acc: 0.9731 - val_loss: 0.3476 - val_acc: 0.8799\n",
      "Epoch 9/20\n",
      "30/30 [==============================] - 1s 29ms/step - loss: 0.0764 - acc: 0.9770 - val_loss: 0.3699 - val_acc: 0.8752\n",
      "Epoch 10/20\n",
      "30/30 [==============================] - 1s 27ms/step - loss: 0.0598 - acc: 0.9833 - val_loss: 0.3817 - val_acc: 0.8778\n",
      "Epoch 11/20\n",
      "30/30 [==============================] - 1s 27ms/step - loss: 0.0506 - acc: 0.9863 - val_loss: 0.4152 - val_acc: 0.8748\n",
      "Epoch 12/20\n",
      "30/30 [==============================] - 1s 27ms/step - loss: 0.0426 - acc: 0.9890 - val_loss: 0.4370 - val_acc: 0.8737\n",
      "Epoch 13/20\n",
      "30/30 [==============================] - 1s 25ms/step - loss: 0.0373 - acc: 0.9906 - val_loss: 0.4585 - val_acc: 0.8736\n",
      "Epoch 14/20\n",
      "30/30 [==============================] - 1s 26ms/step - loss: 0.0292 - acc: 0.9931 - val_loss: 0.4856 - val_acc: 0.8714\n",
      "Epoch 15/20\n",
      "30/30 [==============================] - 1s 30ms/step - loss: 0.0241 - acc: 0.9937 - val_loss: 0.5160 - val_acc: 0.8722\n",
      "Epoch 16/20\n",
      "30/30 [==============================] - 1s 28ms/step - loss: 0.0281 - acc: 0.9925 - val_loss: 0.5352 - val_acc: 0.8717\n",
      "Epoch 17/20\n",
      "30/30 [==============================] - 1s 27ms/step - loss: 0.0089 - acc: 0.9995 - val_loss: 0.5636 - val_acc: 0.8712\n",
      "Epoch 18/20\n",
      "30/30 [==============================] - 1s 26ms/step - loss: 0.0210 - acc: 0.9938 - val_loss: 0.6007 - val_acc: 0.8723\n",
      "Epoch 19/20\n",
      "30/30 [==============================] - 1s 29ms/step - loss: 0.0051 - acc: 0.9997 - val_loss: 0.6280 - val_acc: 0.8696\n",
      "Epoch 20/20\n",
      "30/30 [==============================] - 1s 34ms/step - loss: 0.0187 - acc: 0.9941 - val_loss: 0.6554 - val_acc: 0.8679\n"
     ]
    }
   ],
   "source": [
    "model.compile(optimizer='rmsprop',\n",
    "             loss='binary_crossentropy',\n",
    "             metrics=['acc'])\n",
    "history = model.fit(partial_x_train,\n",
    "                    partial_y_train,\n",
    "                    epochs=20,\n",
    "                    batch_size=512,\n",
    "                    validation_data=(x_val,y_val))"
   ]
  },
  {
   "cell_type": "code",
   "execution_count": 9,
   "id": "b45af848-df4f-4856-898f-8cfad84a46b7",
   "metadata": {},
   "outputs": [
    {
     "data": {
      "image/png": "[encoded data removed]",
      "text/plain": [
       "<Figure size 640x480 with 1 Axes>"
      ]
     },
     "metadata": {},
     "output_type": "display_data"
    }
   ],
   "source": [
    "import matplotlib.pyplot as plt\n",
    "\n",
    "history_dict = history.history\n",
    "loss_value = history_dict['loss']\n",
    "val_loss_value = history_dict['val_loss']\n",
    "\n",
    "acc = history_dict['acc']\n",
    "epochs = range(1,len(acc) + 1)\n",
    "\n",
    "\n",
    "plt.plot(epochs,loss_value, 'bo', label='Training loss')\n",
    "plt.plot(epochs,val_loss_value, 'b', label='Validition loss')\n",
    "plt.title('Training and Validation loss')\n",
    "plt.xlabel('Epochs')\n",
    "plt.ylabel('Loss')\n",
    "plt.legend()\n",
    "\n",
    "plt.show()"
   ]
  },
  {
   "cell_type": "code",
   "execution_count": 10,
   "id": "9a0b73f6-622d-436a-93fd-cac8bc126e81",
   "metadata": {},
   "outputs": [
    {
     "data": {
      "image/png": "[encoded data removed]",
      "text/plain": [
       "<Figure size 640x480 with 1 Axes>"
      ]
     },
     "metadata": {},
     "output_type": "display_data"
    }
   ],
   "source": [
    "plt.clf()\n",
    "\n",
    "acc_values = history_dict['acc']\n",
    "val_acc_values = history_dict['val_acc']\n",
    "plt.plot(epochs, acc, 'bo', label='Training acc')\n",
    "plt.plot(epochs, val_acc_values, 'b', label='Validation acc')\n",
    "plt.title('Training and validation accuracy')\n",
    "plt.xlabel('Epochs')\n",
    "plt.ylabel('Loss')\n",
    "plt.legend()\n",
    "plt.show()"
   ]
  },
  {
   "cell_type": "code",
   "execution_count": 11,
   "id": "2a8c34e3-73ee-4da8-8d1b-a879ba375084",
   "metadata": {},
   "outputs": [
    {
     "name": "stdout",
     "output_type": "stream",
     "text": [
      "Epoch 1/4\n",
      "49/49 [==============================] - 4s 25ms/step - loss: 0.4581 - accuracy: 0.8212\n",
      "Epoch 2/4\n",
      "49/49 [==============================] - 1s 27ms/step - loss: 0.2894 - accuracy: 0.9017\n",
      "Epoch 3/4\n",
      "49/49 [==============================] - 1s 30ms/step - loss: 0.2337 - accuracy: 0.9192\n",
      "Epoch 4/4\n",
      "49/49 [==============================] - 1s 22ms/step - loss: 0.2037 - accuracy: 0.9296\n"
     ]
    },
    {
     "data": {
      "text/plain": [
       "<keras.src.callbacks.History at 0x15afd234fa0>"
      ]
     },
     "execution_count": 11,
     "metadata": {},
     "output_type": "execute_result"
    }
   ],
   "source": [
    "model = models.Sequential()\n",
    "model.add(layers.Dense(16, activation='relu', input_shape=(10000,)))\n",
    "model.add(layers.Dense(1, activation='sigmoid'))\n",
    "model.compile(optimizer='rmsprop',\n",
    "loss='binary_crossentropy',\n",
    "metrics=['accuracy'])\n",
    "model.fit(x_train, y_train, epochs=4, batch_size=512)"
   ]
  },
  {
   "cell_type": "code",
   "execution_count": 12,
   "id": "ddb83836-a806-49e8-960e-aaf0c44e696c",
   "metadata": {},
   "outputs": [
    {
     "name": "stdout",
     "output_type": "stream",
     "text": [
      "782/782 [==============================] - 4s 4ms/step - loss: 0.2791 - accuracy: 0.8885\n"
     ]
    }
   ],
   "source": [
    "results = model.evaluate(x_test, y_test)"
   ]
  },
  {
   "cell_type": "code",
   "execution_count": 13,
   "id": "0d3583ea-a9a1-4b24-97c0-ad91a2257dc6",
   "metadata": {},
   "outputs": [
    {
     "data": {
      "text/plain": [
       "[0.27909064292907715, 0.8885200023651123]"
      ]
     },
     "execution_count": 13,
     "metadata": {},
     "output_type": "execute_result"
    }
   ],
   "source": [
    "results"
   ]
  },
  {
   "cell_type": "markdown",
   "id": "231bc9b4-6cf1-4d3f-8553-95047405779e",
   "metadata": {},
   "source": [
    "# predictions et confusion matrice sr tous les jeux "
   ]
  },
  {
   "cell_type": "code",
   "execution_count": 14,
   "id": "5285383c-ebf4-471a-af96-c1d64334f707",
   "metadata": {},
   "outputs": [
    {
     "name": "stdout",
     "output_type": "stream",
     "text": [
      "782/782 [==============================] - 5s 4ms/step\n",
      "313/313 [==============================] - 1s 4ms/step\n",
      "782/782 [==============================] - 3s 4ms/step\n",
      "Métriques sur l'ensemble d'entraînement :\n",
      "              precision    recall  f1-score   support\n",
      "\n",
      "         0.0       0.96      0.92      0.94     12500\n",
      "         1.0       0.92      0.96      0.94     12500\n",
      "\n",
      "    accuracy                           0.94     25000\n",
      "   macro avg       0.94      0.94      0.94     25000\n",
      "weighted avg       0.94      0.94      0.94     25000\n",
      "\n",
      "Métriques sur l'ensemble de validation :\n",
      "              precision    recall  f1-score   support\n",
      "\n",
      "         0.0       0.96      0.92      0.94      4947\n",
      "         1.0       0.93      0.96      0.94      5053\n",
      "\n",
      "    accuracy                           0.94     10000\n",
      "   macro avg       0.94      0.94      0.94     10000\n",
      "weighted avg       0.94      0.94      0.94     10000\n",
      "\n",
      "Métriques sur l'ensemble de test :\n",
      "              precision    recall  f1-score   support\n",
      "\n",
      "         0.0       0.91      0.87      0.89     12500\n",
      "         1.0       0.87      0.91      0.89     12500\n",
      "\n",
      "    accuracy                           0.89     25000\n",
      "   macro avg       0.89      0.89      0.89     25000\n",
      "weighted avg       0.89      0.89      0.89     25000\n",
      "\n",
      "Matrice de confusion sur l'ensemble d'entraînement :\n",
      "[[11521   979]\n",
      " [  480 12020]]\n",
      "Matrice de confusion sur l'ensemble de validation :\n",
      "[[4554  393]\n",
      " [ 177 4876]]\n",
      "Matrice de confusion sur l'ensemble de test :\n",
      "[[10842  1658]\n",
      " [ 1129 11371]]\n"
     ]
    }
   ],
   "source": [
    "\n",
    "\n",
    "# Faire des prédictions sur les ensembles de données\n",
    "y_pred_train = model.predict(x_train)\n",
    "y_pred_val = model.predict(x_val)\n",
    "y_pred_test = model.predict(x_test)\n",
    "\n",
    "# Seuil pour la classification binaire\n",
    "threshold = 0.5\n",
    "\n",
    "# Convertir les prédictions en classes binaires\n",
    "y_pred_train_binary = (y_pred_train > threshold).astype(int)\n",
    "y_pred_val_binary = (y_pred_val > threshold).astype(int)\n",
    "y_pred_test_binary = (y_pred_test > threshold).astype(int)\n",
    "\n",
    "# Calcul des métriques\n",
    "from sklearn.metrics import classification_report, confusion_matrix\n",
    "\n",
    "print(\"Métriques sur l'ensemble d'entraînement :\")\n",
    "print(classification_report(y_train, y_pred_train_binary))\n",
    "\n",
    "print(\"Métriques sur l'ensemble de validation :\")\n",
    "print(classification_report(y_val, y_pred_val_binary))\n",
    "\n",
    "print(\"Métriques sur l'ensemble de test :\")\n",
    "print(classification_report(y_test, y_pred_test_binary))\n",
    "\n",
    "# Matrices de confusion sur les trois ensembles\n",
    "confusion_matrix_train = confusion_matrix(y_train, y_pred_train_binary)\n",
    "confusion_matrix_val = confusion_matrix(y_val, y_pred_val_binary)\n",
    "confusion_matrix_test = confusion_matrix(y_test, y_pred_test_binary)\n",
    "\n",
    "print(\"Matrice de confusion sur l'ensemble d'entraînement :\")\n",
    "print(confusion_matrix_train)\n",
    "\n",
    "print(\"Matrice de confusion sur l'ensemble de validation :\")\n",
    "print(confusion_matrix_val)\n",
    "\n",
    "print(\"Matrice de confusion sur l'ensemble de test :\")\n",
    "print(confusion_matrix_test)\n"
   ]
  },
  {
   "cell_type": "markdown",
   "id": "d28c54e5-b38c-4265-bf1e-c0c8d2f1f2c1",
   "metadata": {},
   "source": [
    "# Autres modeles "
   ]
  },
  {
   "cell_type": "code",
   "execution_count": null,
   "id": "ff722e76-f6fc-460a-b41b-6b6eadc1621d",
   "metadata": {},
   "outputs": [],
   "source": [
    "import numpy as np\n",
    "import pandas as pd\n",
    "from sklearn.model_selection import train_test_split\n",
    "from sklearn.feature_extraction.text import CountVectorizer\n",
    "from sklearn.naive_bayes import MultinomialNB\n",
    "from sklearn.metrics import accuracy_score, classification_report\n"
   ]
  },
  {
   "cell_type": "code",
   "execution_count": null,
   "id": "a80dec2e-799a-401d-9701-4f93809fc1b9",
   "metadata": {},
   "outputs": [],
   "source": [
    "from keras.datasets import imdb\n",
    "\n",
    "(train_samples, train_labels), (test_samples, test_labels) = imdb.load_data(num_words=10000)\n",
    "\n",
    "# Afficher la forme des données d'entraînement et de test\n",
    "print(\"Train samples shape:\", train_samples.shape)\n",
    "print(\"Train labels shape:\", train_labels.shape)\n",
    "print(\"Test samples shape:\", test_samples.shape)\n",
    "print(\"Test labels shape:\", test_labels.shape)\n",
    "\n",
    "# Afficher les premières séquences d'exemple dans les données\n",
    "print(\"Première séquence d'exemple dans les données d'entraînement:\")\n",
    "print(test_samples[0])\n",
    "\n",
    "# Afficher les premières étiquettes d'exemple dans les données\n",
    "print(\"Première étiquette d'exemple dans les données d'entraînement:\")\n",
    "print(train_labels[1])\n",
    "\n",
    "#creer un jeu de validation a partie du jeu de train\n",
    "# Diviser les données d'entraînement en données d'entraînement et de validation\n",
    "X_train, X_val, y_train, y_val = train_test_split(train_samples, train_labels, test_size=0.2, random_state=42)\n",
    "\n",
    "X_train.shape, y_train.shape, X_val.shape  , y_val.shape  , test_samples.shape, test_labels.shape\n",
    "\n",
    "#encoder les donnees numeriques car elles ne sont pas sous formes 0 1\n",
    "\n",
    "import numpy as np\n",
    "\n",
    "\n",
    "# Nombre maximum de mots (vocabulaire)\n",
    "max_words = 10000\n",
    "\n",
    "# Fonction pour effectuer l'encodage One-Hot\n",
    "def one_hot_encoding(sequences, dimension=max_words):\n",
    "    results = np.zeros((len(sequences), dimension), dtype=int)\n",
    "    for i, sequence in enumerate(sequences):\n",
    "        results[i, sequence] = 1\n",
    "    return results\n",
    "\n",
    "# Encodage One-Hot des données d'entraînement et de test\n",
    "X_train_one_hot = one_hot_encoding(X_train)\n",
    "X_val_one_hot = one_hot_encoding(X_val)\n",
    "X_test_one_hot = one_hot_encoding(test_samples)\n",
    "\n",
    "# Les données d'entraînement et de test sont maintenant en format One-Hot\n",
    "print(\"Train data One-Hot shape:\", X_train_one_hot.shape)\n",
    "print(\"val data One-Hot shape:\", X_val_one_hot.shape)\n",
    "print(\"Test data One-Hot shape:\", X_test_one_hot.shape)\n"
   ]
  },
  {
   "cell_type": "markdown",
   "id": "f51024d4-d714-42ab-b757-1f35827c740f",
   "metadata": {},
   "source": [
    "# Entrainer le modele"
   ]
  },
  {
   "cell_type": "markdown",
   "id": "cd36bd13-c819-4ce3-81cc-4286e3b03d25",
   "metadata": {},
   "source": [
    "# LogisticRegression"
   ]
  },
  {
   "cell_type": "code",
   "execution_count": null,
   "id": "afcc6523-2104-466e-9127-f1533b905c8a",
   "metadata": {},
   "outputs": [],
   "source": [
    "from sklearn.linear_model import LogisticRegression\n",
    "\n",
    "from sklearn.metrics import accuracy_score, classification_report\n",
    "\n",
    "# Créez un modèle de régression logistique\n",
    "logistic_model = LogisticRegression()\n",
    "# Entraînez le modèle sur les données d'entraînement encodées au format One-Hot\n",
    "logistic_model.fit(X_train_one_hot, y_train)\n",
    "\n",
    "# Prédisez les étiquettes sur l'ensemble de validation\n",
    "y_val_pred_logistic = logistic_model.predict(X_val_one_hot)\n",
    "\n",
    "# Évaluez les performances du modèle de régression logistique\n",
    "accuracy_logistic = accuracy_score(y_val, y_val_pred_logistic)\n",
    "print(\"Accuracy (Logistic Regression) on Validation Set:\", accuracy_logistic)\n",
    "print(classification_report(y_val, y_val_pred_logistic))\n",
    "\n",
    "\n",
    "accuracy_logistic = accuracy_score(y_train, logistic_model.predict(X_train_one_hot))\n",
    "print(\"Accuracy (Logistic Regression) on Train Set:\", accuracy_logistic)\n",
    "print(classification_report(y_train, logistic_model.predict(X_train_one_hot)))\n",
    "\n",
    "accuracy_logistic = accuracy_score(test_labels, logistic_model.predict(X_test_one_hot))\n",
    "print(\"Accuracy (Logistic Regression) on Test Set:\", accuracy_logistic)\n",
    "print(classification_report(test_labels, logistic_model.predict(X_test_one_hot)))\n"
   ]
  },
  {
   "cell_type": "markdown",
   "id": "dda5f616-e224-48d9-92fc-cb698c2fa1db",
   "metadata": {},
   "source": [
    "# Matrice de confusion logistic regression"
   ]
  },
  {
   "cell_type": "code",
   "execution_count": null,
   "id": "f3af40d7-6ce2-4467-b45e-1daf1749c760",
   "metadata": {},
   "outputs": [],
   "source": [
    "from sklearn.metrics import confusion_matrix\n",
    "import matplotlib.pyplot as plt\n",
    "import seaborn as sns\n",
    "​\n",
    "# Matrice de confusion pour la régression logistique\n",
    "confusion_matrix_logistic = confusion_matrix(y_val, y_val_pred_logistic)\n",
    "​\n",
    "​\n",
    "# Matrice de confusion pour la régression logistique sur l'ensemble d'entraînement\n",
    "confusion_matrix_train_logistic = confusion_matrix(y_train, logistic_model.predict(X_train_one_hot))\n",
    "​\n",
    "​\n",
    "# Matrice de confusion pour la régression logistique sur l'ensemble de test\n",
    "confusion_matrix_test_logistic = confusion_matrix(test_labels, logistic_model.predict(X_test_one_hot))\n",
    "​\n",
    "​\n",
    "# Fonction pour afficher une matrice de confusion avec des étiquettes\n",
    "def plot_confusion_matrix(confusion_matrix, title):\n",
    "    plt.figure(figsize=(4, 3))\n",
    "    sns.heatmap(confusion_matrix, annot=True, fmt=\"d\", cmap=\"Blues\", xticklabels=['Negative', 'Positive'], yticklabels=['Negative', 'Positive'])\n",
    "    plt.xlabel(\"Prédictions\")\n",
    "    plt.ylabel(\"Vraies étiquettes\")\n",
    "    plt.title(title)\n",
    "    plt.show()\n",
    "​\n",
    "# Affichage des matrices de confusion pour la régression logistique\n",
    "plot_confusion_matrix(confusion_matrix_train_logistic, \"Matrice de Confusion (Régression Logistique - Entraînement)\")\n",
    "plot_confusion_matrix(confusion_matrix_logistic, \"Matrice de Confusion (Régression Logistique - Validation)\")\n",
    "plot_confusion_matrix(confusion_matrix_test_logistic, \"Matrice de Confusion (Régression Logistique - Test)\")"
   ]
  },
  {
   "cell_type": "markdown",
   "id": "d587e763-5b3e-4b93-8f67-615e509d5cc4",
   "metadata": {},
   "source": [
    "# SVM"
   ]
  },
  {
   "cell_type": "code",
   "execution_count": null,
   "id": "1fbf9afb-afd2-4f33-85fb-52d82f2f4566",
   "metadata": {},
   "outputs": [
    {
     "name": "stdout",
     "output_type": "stream",
     "text": [
      "Train data One-Hot shape: (20000, 10000)\n",
      "val data One-Hot shape: (5000, 10000)\n",
      "Test data One-Hot shape: (25000, 10000)\n"
     ]
    }
   ],
   "source": [
    "from keras.datasets import imdb\n",
    "import numpy as np\n",
    "import pandas as pd\n",
    "from sklearn.model_selection import train_test_split\n",
    "from sklearn.feature_extraction.text import CountVectorizer\n",
    "from sklearn.naive_bayes import MultinomialNB\n",
    "from sklearn.metrics import accuracy_score, classification_report\n",
    "from sklearn.svm import SVC\n",
    "\n",
    "\n",
    "(train_samples, train_labels), (test_samples, test_labels) = imdb.load_data(num_words=10000)\n",
    "\n",
    "\n",
    "import numpy as np\n",
    "# Diviser les données d'entraînement en données d'entraînement et de validation\n",
    "X_train, X_val, y_train, y_val = train_test_split(train_samples, train_labels, test_size=0.2, random_state=42)\n",
    "\n",
    "X_train.shape, y_train.shape, X_val.shape  , y_val.shape  , test_samples.shape, test_labels.shape \n",
    "\n",
    "# Nombre maximum de mots (vocabulaire)\n",
    "max_words = 10000\n",
    "\n",
    "# Fonction pour effectuer l'encodage One-Hot\n",
    "def one_hot_encoding(sequences, dimension=max_words):\n",
    "    results = np.zeros((len(sequences), dimension), dtype=int)\n",
    "    for i, sequence in enumerate(sequences):\n",
    "        results[i, sequence] = 1\n",
    "    return results\n",
    "\n",
    "# Encodage One-Hot des données d'entraînement et de test\n",
    "X_train_one_hot = one_hot_encoding(X_train)\n",
    "X_val_one_hot = one_hot_encoding(X_val)\n",
    "X_test_one_hot = one_hot_encoding(test_samples)\n",
    "\n",
    "# Les données d'entraînement et de test sont maintenant en format One-Hot\n",
    "print(\"Train data One-Hot shape:\", X_train_one_hot.shape)\n",
    "print(\"val data One-Hot shape:\", X_val_one_hot.shape)\n",
    "print(\"Test data One-Hot shape:\", X_test_one_hot.shape)\n",
    "\n",
    "\n",
    "\n",
    "# Créez une instance de SVM linéaire\n",
    "svm_model = SVC(kernel='linear')\n",
    "\n",
    "\n",
    "# Entraînez le modèle sur l'ensemble d'entraînement encodé en one-hot\n",
    "svm_model.fit(X_train_one_hot, y_train)\n",
    "\n",
    "# Prédisez les étiquettes de l'ensemble de validation\n",
    "y_val_pred_svm = svm_model.predict(X_val_one_hot)\n",
    "\n",
    "# Évaluez les performances sur l'ensemble de validation\n",
    "accuracy_val_svm = accuracy_score(y_val, y_val_pred_svm)\n",
    "print(\"Accuracy on Validation Set (SVM):\", accuracy_val_svm)\n"
   ]
  },
  {
   "cell_type": "code",
   "execution_count": null,
   "id": "a0ea06ba-1eda-4ca6-b634-bf936d456396",
   "metadata": {},
   "outputs": [],
   "source": []
  }
 ],
 "metadata": {
  "kernelspec": {
   "display_name": "Python 3 (ipykernel)",
   "language": "python",
   "name": "python3"
  },
  "language_info": {
   "codemirror_mode": {
    "name": "ipython",
    "version": 3
   },
   "file_extension": ".py",
   "mimetype": "text/x-python",
   "name": "python",
   "nbconvert_exporter": "python",
   "pygments_lexer": "ipython3",
   "version": "3.10.9"
  }
 },
 "nbformat": 4,
 "nbformat_minor": 5
}
